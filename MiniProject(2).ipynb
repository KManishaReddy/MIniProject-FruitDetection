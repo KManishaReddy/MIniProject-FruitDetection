{
  "nbformat": 4,
  "nbformat_minor": 0,
  "metadata": {
    "kernelspec": {
      "display_name": "Python 3",
      "language": "python",
      "name": "python3"
    },
    "language_info": {
      "codemirror_mode": {
        "name": "ipython",
        "version": 3
      },
      "file_extension": ".py",
      "mimetype": "text/x-python",
      "name": "python",
      "nbconvert_exporter": "python",
      "pygments_lexer": "ipython3",
      "version": "3.7.9"
    },
    "colab": {
      "name": "MiniProject.ipynb",
      "provenance": [],
      "collapsed_sections": []
    },
    "accelerator": "GPU"
  },
  "cells": [
    {
      "cell_type": "markdown",
      "metadata": {
        "id": "O9HOZllEfs1X"
      },
      "source": [
        "# **Classification of fruits:**"
      ]
    },
    {
      "cell_type": "code",
      "metadata": {
        "id": "fTfKcWn2K81H",
        "colab": {
          "base_uri": "https://localhost:8080/"
        },
        "outputId": "788cb7e9-65b4-4782-8687-1f0c34614c7b"
      },
      "source": [
        "from google.colab import drive\n",
        "drive.mount('/content/drive')"
      ],
      "execution_count": 1,
      "outputs": [
        {
          "output_type": "stream",
          "text": [
            "Drive already mounted at /content/drive; to attempt to forcibly remount, call drive.mount(\"/content/drive\", force_remount=True).\n"
          ],
          "name": "stdout"
        }
      ]
    },
    {
      "cell_type": "markdown",
      "metadata": {
        "id": "JpPMkJhWgVfK"
      },
      "source": [
        "### **DATA PREPROCESSING**"
      ]
    },
    {
      "cell_type": "code",
      "metadata": {
        "id": "OpjA7lZvJfyq",
        "colab": {
          "base_uri": "https://localhost:8080/"
        },
        "outputId": "752749e6-7aa1-4f82-ad09-a1b860d6ce7e"
      },
      "source": [
        "import os\n",
        "import numpy as np\n",
        "import matplotlib.pyplot as plt\n",
        "\n",
        "X = []\n",
        "float_X = []\n",
        "y = []\n",
        "\n",
        "path = \"/content/drive/My Drive/minidata/\"\n",
        "types = [\"Apple\", \"Banana\", \"Mango\", \"Orange\", \"jackfruit\"] \n",
        "\n",
        "for i in types:\n",
        "    route = os.path.join(path,i)\n",
        "    for j in os.listdir(route):\n",
        "        arr = plt.imread(os.path.join(route,j))\n",
        "        arr1,arr2 = np.array(arr), np.array(arr,dtype = float)\n",
        "        X.append(arr1)\n",
        "        float_X.append(arr2)\n",
        "        # print(len(X))\n",
        "        y.append(i)\n",
        "print(len(X))"
      ],
      "execution_count": 2,
      "outputs": [
        {
          "output_type": "stream",
          "text": [
            "520\n"
          ],
          "name": "stdout"
        }
      ]
    },
    {
      "cell_type": "markdown",
      "metadata": {
        "id": "5fTUCJHhscJy"
      },
      "source": [
        "**DATA VISUALIZATION:**"
      ]
    },
    {
      "cell_type": "code",
      "metadata": {
        "id": "dUkGNNymrcli",
        "colab": {
          "base_uri": "https://localhost:8080/",
          "height": 384
        },
        "outputId": "6eb8bee2-e92e-4a63-8466-770f1b7488da"
      },
      "source": [
        "import matplotlib.pyplot as plt\n",
        "import os\n",
        "lst =[]\n",
        "for i in types:\n",
        "  x = len(os.listdir(os.path.join('/content/drive/My Drive/minidata/',i)))\n",
        "  lst.append(x)\n",
        "fig = plt.figure()\n",
        "ax = fig.add_axes([0,0,1,1])\n",
        "plt.axis([-1,5,0,120])\n",
        "plt.xlabel('Type of fruit')\n",
        "plt.ylabel('Number of samples')\n",
        "plt.title('Class vs number of samples')\n",
        "ax.bar(types,lst)"
      ],
      "execution_count": 3,
      "outputs": [
        {
          "output_type": "execute_result",
          "data": {
            "text/plain": [
              "<BarContainer object of 5 artists>"
            ]
          },
          "metadata": {
            "tags": []
          },
          "execution_count": 3
        },
        {
          "output_type": "display_data",
          "data": {
            "image/png": "[encoded data removed]",
            "text/plain": [
              "<Figure size 432x288 with 1 Axes>"
            ]
          },
          "metadata": {
            "tags": [],
            "needs_background": "light"
          }
        }
      ]
    },
    {
      "cell_type": "code",
      "metadata": {
        "id": "ZRzU-IWvJfy1"
      },
      "source": [
        "# Converting list to numpy array\n",
        "X = np.array(X)\n",
        "y = np.array(y)\n",
        "float_X = np.array(float_X)"
      ],
      "execution_count": 4,
      "outputs": []
    },
    {
      "cell_type": "markdown",
      "metadata": {
        "id": "V9peeCvucI4r"
      },
      "source": [
        "**Reshaping data**"
      ]
    },
    {
      "cell_type": "code",
      "metadata": {
        "id": "yNYZ35oNhvh_"
      },
      "source": [
        "X = X.reshape(520, 3*90*90 )\n",
        "float_X = float_X.reshape(520, 3*90*90)"
      ],
      "execution_count": 5,
      "outputs": []
    },
    {
      "cell_type": "markdown",
      "metadata": {
        "id": "9tUIVqlUcBFd"
      },
      "source": [
        "**Splitting dataset**"
      ]
    },
    {
      "cell_type": "code",
      "metadata": {
        "id": "2LWwebywIUya"
      },
      "source": [
        "from sklearn.model_selection import train_test_split\n",
        "X_train, X_test, y_train, y_test = train_test_split(X, y, test_size=0.20, shuffle = True, random_state=42)"
      ],
      "execution_count": 6,
      "outputs": []
    },
    {
      "cell_type": "markdown",
      "metadata": {
        "id": "VJsQFeyIcRnV"
      },
      "source": [
        "## **KNN without scaling**"
      ]
    },
    {
      "cell_type": "code",
      "metadata": {
        "id": "sKep4-FGTrmA",
        "colab": {
          "base_uri": "https://localhost:8080/"
        },
        "outputId": "1d5ddefe-5109-4dce-a0a8-089d8c65783b"
      },
      "source": [
        "from sklearn.neighbors import KNeighborsClassifier\n",
        "knn = KNeighborsClassifier(n_neighbors = 3)\n",
        "knn.fit(X_train, y_train)"
      ],
      "execution_count": 7,
      "outputs": [
        {
          "output_type": "execute_result",
          "data": {
            "text/plain": [
              "KNeighborsClassifier(algorithm='auto', leaf_size=30, metric='minkowski',\n",
              "                     metric_params=None, n_jobs=None, n_neighbors=3, p=2,\n",
              "                     weights='uniform')"
            ]
          },
          "metadata": {
            "tags": []
          },
          "execution_count": 7
        }
      ]
    },
    {
      "cell_type": "markdown",
      "metadata": {
        "id": "7Z6ws1eDcdaq"
      },
      "source": [
        "**Predicting**"
      ]
    },
    {
      "cell_type": "code",
      "metadata": {
        "id": "0HI_nUstbVVE"
      },
      "source": [
        "y_pred = knn.predict(X_test)"
      ],
      "execution_count": 8,
      "outputs": []
    },
    {
      "cell_type": "markdown",
      "metadata": {
        "id": "luh9GwPFciSo"
      },
      "source": [
        "**Classification report**"
      ]
    },
    {
      "cell_type": "code",
      "metadata": {
        "id": "9tAEV6mcE8qh"
      },
      "source": [
        "import pandas as pd\n",
        "from sklearn.metrics import classification_report, accuracy_score, confusion_matrix"
      ],
      "execution_count": 9,
      "outputs": []
    },
    {
      "cell_type": "code",
      "metadata": {
        "colab": {
          "base_uri": "https://localhost:8080/"
        },
        "id": "sgWsHon3FKlv",
        "outputId": "a68ac32e-929b-4da4-db5a-05593524dfea"
      },
      "source": [
        "print(\"Accuracy Score: \", accuracy_score(y_test,y_pred))"
      ],
      "execution_count": 10,
      "outputs": [
        {
          "output_type": "stream",
          "text": [
            "Accuracy Score:  0.9615384615384616\n"
          ],
          "name": "stdout"
        }
      ]
    },
    {
      "cell_type": "code",
      "metadata": {
        "id": "8VDwV-xFc3Yr",
        "colab": {
          "base_uri": "https://localhost:8080/",
          "height": 300
        },
        "outputId": "8bb2de90-e8fd-46a3-f3fd-90255e749d80"
      },
      "source": [
        "import seaborn as sns\n",
        "\n",
        "r = classification_report(y_test, y_pred,output_dict=True)\n",
        "df = pd.DataFrame(r).T\n",
        "df"
      ],
      "execution_count": 11,
      "outputs": [
        {
          "output_type": "execute_result",
          "data": {
            "text/html": [
              "<div>\n",
              "<style scoped>\n",
              "    .dataframe tbody tr th:only-of-type {\n",
              "        vertical-align: middle;\n",
              "    }\n",
              "\n",
              "    .dataframe tbody tr th {\n",
              "        vertical-align: top;\n",
              "    }\n",
              "\n",
              "    .dataframe thead th {\n",
              "        text-align: right;\n",
              "    }\n",
              "</style>\n",
              "<table border=\"1\" class=\"dataframe\">\n",
              "  <thead>\n",
              "    <tr style=\"text-align: right;\">\n",
              "      <th></th>\n",
              "      <th>precision</th>\n",
              "      <th>recall</th>\n",
              "      <th>f1-score</th>\n",
              "      <th>support</th>\n",
              "    </tr>\n",
              "  </thead>\n",
              "  <tbody>\n",
              "    <tr>\n",
              "      <th>Apple</th>\n",
              "      <td>1.000000</td>\n",
              "      <td>0.962963</td>\n",
              "      <td>0.981132</td>\n",
              "      <td>27.000000</td>\n",
              "    </tr>\n",
              "    <tr>\n",
              "      <th>Banana</th>\n",
              "      <td>1.000000</td>\n",
              "      <td>0.952381</td>\n",
              "      <td>0.975610</td>\n",
              "      <td>21.000000</td>\n",
              "    </tr>\n",
              "    <tr>\n",
              "      <th>Mango</th>\n",
              "      <td>0.842105</td>\n",
              "      <td>1.000000</td>\n",
              "      <td>0.914286</td>\n",
              "      <td>16.000000</td>\n",
              "    </tr>\n",
              "    <tr>\n",
              "      <th>Orange</th>\n",
              "      <td>0.950000</td>\n",
              "      <td>1.000000</td>\n",
              "      <td>0.974359</td>\n",
              "      <td>19.000000</td>\n",
              "    </tr>\n",
              "    <tr>\n",
              "      <th>jackfruit</th>\n",
              "      <td>1.000000</td>\n",
              "      <td>0.904762</td>\n",
              "      <td>0.950000</td>\n",
              "      <td>21.000000</td>\n",
              "    </tr>\n",
              "    <tr>\n",
              "      <th>accuracy</th>\n",
              "      <td>0.961538</td>\n",
              "      <td>0.961538</td>\n",
              "      <td>0.961538</td>\n",
              "      <td>0.961538</td>\n",
              "    </tr>\n",
              "    <tr>\n",
              "      <th>macro avg</th>\n",
              "      <td>0.958421</td>\n",
              "      <td>0.964021</td>\n",
              "      <td>0.959077</td>\n",
              "      <td>104.000000</td>\n",
              "    </tr>\n",
              "    <tr>\n",
              "      <th>weighted avg</th>\n",
              "      <td>0.966574</td>\n",
              "      <td>0.961538</td>\n",
              "      <td>0.962209</td>\n",
              "      <td>104.000000</td>\n",
              "    </tr>\n",
              "  </tbody>\n",
              "</table>\n",
              "</div>"
            ],
            "text/plain": [
              "              precision    recall  f1-score     support\n",
              "Apple          1.000000  0.962963  0.981132   27.000000\n",
              "Banana         1.000000  0.952381  0.975610   21.000000\n",
              "Mango          0.842105  1.000000  0.914286   16.000000\n",
              "Orange         0.950000  1.000000  0.974359   19.000000\n",
              "jackfruit      1.000000  0.904762  0.950000   21.000000\n",
              "accuracy       0.961538  0.961538  0.961538    0.961538\n",
              "macro avg      0.958421  0.964021  0.959077  104.000000\n",
              "weighted avg   0.966574  0.961538  0.962209  104.000000"
            ]
          },
          "metadata": {
            "tags": []
          },
          "execution_count": 11
        }
      ]
    },
    {
      "cell_type": "code",
      "metadata": {
        "colab": {
          "base_uri": "https://localhost:8080/",
          "height": 422
        },
        "id": "V400rIgCUeqv",
        "outputId": "94f45a9e-cd8f-4402-d903-5c52f0450b59"
      },
      "source": [
        "import pandas as pd\n",
        "# plt.figure(figsize=(15,10))\n",
        "cm = pd.DataFrame(confusion_matrix(y_test,y_pred), columns=[\"Apple\", \"Banana\", \"Mango\", \"Orange\", \"jackfruit\"], index = [\"Apple\", \"Banana\", \"Mango\", \"Orange\", \"jackfruit\"] )\n",
        "cm.index.name = 'Actual'\n",
        "cm.columns.name = 'Predicted'\n",
        "plt.figure(figsize = (9,6))\n",
        "plt.title(\"Confusion matrix\")\n",
        "print(sns.heatmap(cm,annot = True,cmap='Blues'))"
      ],
      "execution_count": 12,
      "outputs": [
        {
          "output_type": "stream",
          "text": [
            "AxesSubplot(0.125,0.125;0.62x0.755)\n"
          ],
          "name": "stdout"
        },
        {
          "output_type": "display_data",
          "data": {
            "image/png": "[encoded data removed]",
            "text/plain": [
              "<Figure size 648x432 with 2 Axes>"
            ]
          },
          "metadata": {
            "tags": [],
            "needs_background": "light"
          }
        }
      ]
    },
    {
      "cell_type": "markdown",
      "metadata": {
        "id": "wsX8xuLnc42k"
      },
      "source": [
        "## **KNN with Scaled dataset**"
      ]
    },
    {
      "cell_type": "markdown",
      "metadata": {
        "id": "25GoE_s4dKcC"
      },
      "source": [
        "**Scaling**"
      ]
    },
    {
      "cell_type": "code",
      "metadata": {
        "id": "rj2IChsRusyC",
        "colab": {
          "base_uri": "https://localhost:8080/"
        },
        "outputId": "26414d62-54c3-4ade-efb2-b845d80e4796"
      },
      "source": [
        "from tqdm import tqdm\n",
        "scaled_X = float_X\n",
        "for i in tqdm(range(float_X.shape[0])):\n",
        "  scaled_X[i]=np.divide(float_X[i],255.0)"
      ],
      "execution_count": 13,
      "outputs": [
        {
          "output_type": "stream",
          "text": [
            "100%|██████████| 520/520 [00:00<00:00, 30324.20it/s]\n"
          ],
          "name": "stderr"
        }
      ]
    },
    {
      "cell_type": "markdown",
      "metadata": {
        "id": "KaRpU8QnfwHO"
      },
      "source": [
        "**Splitting dataset**"
      ]
    },
    {
      "cell_type": "code",
      "metadata": {
        "id": "usilv_dUHZju"
      },
      "source": [
        "from sklearn.model_selection import train_test_split\n",
        "scaled_X_train, scaled_X_test, scaled_y_train, scaled_y_test = train_test_split(scaled_X, y, test_size=0.20, shuffle = True, random_state=42)"
      ],
      "execution_count": 14,
      "outputs": []
    },
    {
      "cell_type": "markdown",
      "metadata": {
        "id": "v0MZXLRMDEZf"
      },
      "source": [
        "**Knn model:**"
      ]
    },
    {
      "cell_type": "code",
      "metadata": {
        "id": "Nfsx42GzbbRp",
        "colab": {
          "base_uri": "https://localhost:8080/"
        },
        "outputId": "b622de82-cb0d-4337-b540-3ea8aeb7c0a3"
      },
      "source": [
        "from sklearn.neighbors import KNeighborsClassifier\n",
        "knn = KNeighborsClassifier(n_neighbors=3)\n",
        "knn.fit(scaled_X_train, scaled_y_train)"
      ],
      "execution_count": 15,
      "outputs": [
        {
          "output_type": "execute_result",
          "data": {
            "text/plain": [
              "KNeighborsClassifier(algorithm='auto', leaf_size=30, metric='minkowski',\n",
              "                     metric_params=None, n_jobs=None, n_neighbors=3, p=2,\n",
              "                     weights='uniform')"
            ]
          },
          "metadata": {
            "tags": []
          },
          "execution_count": 15
        }
      ]
    },
    {
      "cell_type": "markdown",
      "metadata": {
        "id": "x26pVvbsDMnR"
      },
      "source": [
        "**Prediction**"
      ]
    },
    {
      "cell_type": "code",
      "metadata": {
        "id": "ZNALXKi8d9sP"
      },
      "source": [
        "y_pred = knn.predict(scaled_X_test)"
      ],
      "execution_count": 16,
      "outputs": []
    },
    {
      "cell_type": "code",
      "metadata": {
        "id": "93JhNh24LA2C",
        "colab": {
          "base_uri": "https://localhost:8080/",
          "height": 319
        },
        "outputId": "47661586-ddb7-4047-cc54-fc1c56f77cf8"
      },
      "source": [
        "print(\"Accuracy score: \", accuracy_score(scaled_y_test,y_pred))\n",
        "r = classification_report(scaled_y_test, y_pred,output_dict=True)\n",
        "df = pd.DataFrame(r).T\n",
        "df"
      ],
      "execution_count": 17,
      "outputs": [
        {
          "output_type": "stream",
          "text": [
            "Accuracy score:  0.9615384615384616\n"
          ],
          "name": "stdout"
        },
        {
          "output_type": "execute_result",
          "data": {
            "text/html": [
              "<div>\n",
              "<style scoped>\n",
              "    .dataframe tbody tr th:only-of-type {\n",
              "        vertical-align: middle;\n",
              "    }\n",
              "\n",
              "    .dataframe tbody tr th {\n",
              "        vertical-align: top;\n",
              "    }\n",
              "\n",
              "    .dataframe thead th {\n",
              "        text-align: right;\n",
              "    }\n",
              "</style>\n",
              "<table border=\"1\" class=\"dataframe\">\n",
              "  <thead>\n",
              "    <tr style=\"text-align: right;\">\n",
              "      <th></th>\n",
              "      <th>precision</th>\n",
              "      <th>recall</th>\n",
              "      <th>f1-score</th>\n",
              "      <th>support</th>\n",
              "    </tr>\n",
              "  </thead>\n",
              "  <tbody>\n",
              "    <tr>\n",
              "      <th>Apple</th>\n",
              "      <td>1.000000</td>\n",
              "      <td>0.962963</td>\n",
              "      <td>0.981132</td>\n",
              "      <td>27.000000</td>\n",
              "    </tr>\n",
              "    <tr>\n",
              "      <th>Banana</th>\n",
              "      <td>1.000000</td>\n",
              "      <td>0.952381</td>\n",
              "      <td>0.975610</td>\n",
              "      <td>21.000000</td>\n",
              "    </tr>\n",
              "    <tr>\n",
              "      <th>Mango</th>\n",
              "      <td>0.842105</td>\n",
              "      <td>1.000000</td>\n",
              "      <td>0.914286</td>\n",
              "      <td>16.000000</td>\n",
              "    </tr>\n",
              "    <tr>\n",
              "      <th>Orange</th>\n",
              "      <td>0.950000</td>\n",
              "      <td>1.000000</td>\n",
              "      <td>0.974359</td>\n",
              "      <td>19.000000</td>\n",
              "    </tr>\n",
              "    <tr>\n",
              "      <th>jackfruit</th>\n",
              "      <td>1.000000</td>\n",
              "      <td>0.904762</td>\n",
              "      <td>0.950000</td>\n",
              "      <td>21.000000</td>\n",
              "    </tr>\n",
              "    <tr>\n",
              "      <th>accuracy</th>\n",
              "      <td>0.961538</td>\n",
              "      <td>0.961538</td>\n",
              "      <td>0.961538</td>\n",
              "      <td>0.961538</td>\n",
              "    </tr>\n",
              "    <tr>\n",
              "      <th>macro avg</th>\n",
              "      <td>0.958421</td>\n",
              "      <td>0.964021</td>\n",
              "      <td>0.959077</td>\n",
              "      <td>104.000000</td>\n",
              "    </tr>\n",
              "    <tr>\n",
              "      <th>weighted avg</th>\n",
              "      <td>0.966574</td>\n",
              "      <td>0.961538</td>\n",
              "      <td>0.962209</td>\n",
              "      <td>104.000000</td>\n",
              "    </tr>\n",
              "  </tbody>\n",
              "</table>\n",
              "</div>"
            ],
            "text/plain": [
              "              precision    recall  f1-score     support\n",
              "Apple          1.000000  0.962963  0.981132   27.000000\n",
              "Banana         1.000000  0.952381  0.975610   21.000000\n",
              "Mango          0.842105  1.000000  0.914286   16.000000\n",
              "Orange         0.950000  1.000000  0.974359   19.000000\n",
              "jackfruit      1.000000  0.904762  0.950000   21.000000\n",
              "accuracy       0.961538  0.961538  0.961538    0.961538\n",
              "macro avg      0.958421  0.964021  0.959077  104.000000\n",
              "weighted avg   0.966574  0.961538  0.962209  104.000000"
            ]
          },
          "metadata": {
            "tags": []
          },
          "execution_count": 17
        }
      ]
    },
    {
      "cell_type": "code",
      "metadata": {
        "colab": {
          "base_uri": "https://localhost:8080/",
          "height": 422
        },
        "id": "T-mJ91naXeHl",
        "outputId": "9d70d91b-2ebf-4f38-8bc8-dbca1e8fb743"
      },
      "source": [
        "cm = pd.DataFrame(confusion_matrix(scaled_y_test,y_pred), columns=[\"Apple\", \"Banana\", \"Mango\", \"Orange\", \"jackfruit\"], index = [\"Apple\", \"Banana\", \"Mango\", \"Orange\", \"jackfruit\"] )\n",
        "cm.index.name = 'Actual'\n",
        "cm.columns.name = 'Predicted'\n",
        "plt.figure(figsize = (9,6))\n",
        "plt.title(\"Confusion matrix\")\n",
        "print(sns.heatmap(cm,annot = True,cmap='Blues'))"
      ],
      "execution_count": 18,
      "outputs": [
        {
          "output_type": "stream",
          "text": [
            "AxesSubplot(0.125,0.125;0.62x0.755)\n"
          ],
          "name": "stdout"
        },
        {
          "output_type": "display_data",
          "data": {
            "image/png": "[encoded data removed]",
            "text/plain": [
              "<Figure size 648x432 with 2 Axes>"
            ]
          },
          "metadata": {
            "tags": [],
            "needs_background": "light"
          }
        }
      ]
    },
    {
      "cell_type": "markdown",
      "metadata": {
        "id": "9G974BUmcrVX"
      },
      "source": [
        "## **Hyperparameter tuning: (To find best k value)**"
      ]
    },
    {
      "cell_type": "code",
      "metadata": {
        "id": "U_qjesBP30OF"
      },
      "source": [
        "from sklearn.model_selection import GridSearchCV\n",
        "from sklearn.neighbors import KNeighborsClassifier\n",
        "\n",
        "model = KNeighborsClassifier()"
      ],
      "execution_count": 19,
      "outputs": []
    },
    {
      "cell_type": "code",
      "metadata": {
        "id": "i5yI4cnQ5f4X"
      },
      "source": [
        "params = {'n_neighbors': [11,13,17,19,21,23,27,29]}"
      ],
      "execution_count": 20,
      "outputs": []
    },
    {
      "cell_type": "code",
      "metadata": {
        "id": "UOLkJGAJ5oC5"
      },
      "source": [
        "model1 = GridSearchCV(model,params,cv=5,verbose=1,n_jobs=10)"
      ],
      "execution_count": 21,
      "outputs": []
    },
    {
      "cell_type": "code",
      "metadata": {
        "id": "f9Q66iHx5znQ",
        "colab": {
          "base_uri": "https://localhost:8080/"
        },
        "outputId": "9467bd95-a055-4231-a5ac-b5fc82387bcb"
      },
      "source": [
        "model1.fit(scaled_X_train,scaled_y_train)\n",
        "model1.best_params_"
      ],
      "execution_count": 22,
      "outputs": [
        {
          "output_type": "stream",
          "text": [
            "Fitting 5 folds for each of 8 candidates, totalling 40 fits\n"
          ],
          "name": "stdout"
        },
        {
          "output_type": "stream",
          "text": [
            "[Parallel(n_jobs=10)]: Using backend LokyBackend with 10 concurrent workers.\n",
            "[Parallel(n_jobs=10)]: Done  40 out of  40 | elapsed:   45.9s finished\n"
          ],
          "name": "stderr"
        },
        {
          "output_type": "execute_result",
          "data": {
            "text/plain": [
              "{'n_neighbors': 11}"
            ]
          },
          "metadata": {
            "tags": []
          },
          "execution_count": 22
        }
      ]
    },
    {
      "cell_type": "code",
      "metadata": {
        "id": "cC-z5jBr571u",
        "colab": {
          "base_uri": "https://localhost:8080/",
          "height": 319
        },
        "outputId": "42be3897-8fdb-483d-e771-808b543880f5"
      },
      "source": [
        "from sklearn.metrics import confusion_matrix\n",
        "\n",
        "prediction=model1.predict(scaled_X_test)\n",
        "print(\"Accuracy: \",accuracy_score(prediction,scaled_y_test))\n",
        "r = classification_report(scaled_y_test, prediction,output_dict=True)\n",
        "df = pd.DataFrame(r).T\n",
        "df"
      ],
      "execution_count": 23,
      "outputs": [
        {
          "output_type": "stream",
          "text": [
            "Accuracy:  0.9038461538461539\n"
          ],
          "name": "stdout"
        },
        {
          "output_type": "execute_result",
          "data": {
            "text/html": [
              "<div>\n",
              "<style scoped>\n",
              "    .dataframe tbody tr th:only-of-type {\n",
              "        vertical-align: middle;\n",
              "    }\n",
              "\n",
              "    .dataframe tbody tr th {\n",
              "        vertical-align: top;\n",
              "    }\n",
              "\n",
              "    .dataframe thead th {\n",
              "        text-align: right;\n",
              "    }\n",
              "</style>\n",
              "<table border=\"1\" class=\"dataframe\">\n",
              "  <thead>\n",
              "    <tr style=\"text-align: right;\">\n",
              "      <th></th>\n",
              "      <th>precision</th>\n",
              "      <th>recall</th>\n",
              "      <th>f1-score</th>\n",
              "      <th>support</th>\n",
              "    </tr>\n",
              "  </thead>\n",
              "  <tbody>\n",
              "    <tr>\n",
              "      <th>Apple</th>\n",
              "      <td>1.000000</td>\n",
              "      <td>0.703704</td>\n",
              "      <td>0.826087</td>\n",
              "      <td>27.000000</td>\n",
              "    </tr>\n",
              "    <tr>\n",
              "      <th>Banana</th>\n",
              "      <td>1.000000</td>\n",
              "      <td>0.952381</td>\n",
              "      <td>0.975610</td>\n",
              "      <td>21.000000</td>\n",
              "    </tr>\n",
              "    <tr>\n",
              "      <th>Mango</th>\n",
              "      <td>0.842105</td>\n",
              "      <td>1.000000</td>\n",
              "      <td>0.914286</td>\n",
              "      <td>16.000000</td>\n",
              "    </tr>\n",
              "    <tr>\n",
              "      <th>Orange</th>\n",
              "      <td>0.730769</td>\n",
              "      <td>1.000000</td>\n",
              "      <td>0.844444</td>\n",
              "      <td>19.000000</td>\n",
              "    </tr>\n",
              "    <tr>\n",
              "      <th>jackfruit</th>\n",
              "      <td>1.000000</td>\n",
              "      <td>0.952381</td>\n",
              "      <td>0.975610</td>\n",
              "      <td>21.000000</td>\n",
              "    </tr>\n",
              "    <tr>\n",
              "      <th>accuracy</th>\n",
              "      <td>0.903846</td>\n",
              "      <td>0.903846</td>\n",
              "      <td>0.903846</td>\n",
              "      <td>0.903846</td>\n",
              "    </tr>\n",
              "    <tr>\n",
              "      <th>macro avg</th>\n",
              "      <td>0.914575</td>\n",
              "      <td>0.921693</td>\n",
              "      <td>0.907207</td>\n",
              "      <td>104.000000</td>\n",
              "    </tr>\n",
              "    <tr>\n",
              "      <th>weighted avg</th>\n",
              "      <td>0.926522</td>\n",
              "      <td>0.903846</td>\n",
              "      <td>0.903394</td>\n",
              "      <td>104.000000</td>\n",
              "    </tr>\n",
              "  </tbody>\n",
              "</table>\n",
              "</div>"
            ],
            "text/plain": [
              "              precision    recall  f1-score     support\n",
              "Apple          1.000000  0.703704  0.826087   27.000000\n",
              "Banana         1.000000  0.952381  0.975610   21.000000\n",
              "Mango          0.842105  1.000000  0.914286   16.000000\n",
              "Orange         0.730769  1.000000  0.844444   19.000000\n",
              "jackfruit      1.000000  0.952381  0.975610   21.000000\n",
              "accuracy       0.903846  0.903846  0.903846    0.903846\n",
              "macro avg      0.914575  0.921693  0.907207  104.000000\n",
              "weighted avg   0.926522  0.903846  0.903394  104.000000"
            ]
          },
          "metadata": {
            "tags": []
          },
          "execution_count": 23
        }
      ]
    },
    {
      "cell_type": "code",
      "metadata": {
        "id": "aKI8cEIbG2R6"
      },
      "source": [
        "acc = []\r\n",
        "acc.append(accuracy_score(prediction,scaled_y_test))"
      ],
      "execution_count": 24,
      "outputs": []
    },
    {
      "cell_type": "code",
      "metadata": {
        "colab": {
          "base_uri": "https://localhost:8080/",
          "height": 422
        },
        "id": "gJ3XP3ZbXxQp",
        "outputId": "814d23df-f865-4702-de86-0df3f84de727"
      },
      "source": [
        "cm = pd.DataFrame(confusion_matrix(scaled_y_test,prediction), columns=[\"Apple\", \"Banana\", \"Mango\", \"Orange\", \"jackfruit\"], index = [\"Apple\", \"Banana\", \"Mango\", \"Orange\", \"jackfruit\"] )\n",
        "cm.index.name = 'Actual'\n",
        "cm.columns.name = 'Predicted'\n",
        "plt.figure(figsize = (9,6))\n",
        "plt.title(\"Confusion matrix\")\n",
        "print(sns.heatmap(cm,annot = True,cmap='Blues'))"
      ],
      "execution_count": 25,
      "outputs": [
        {
          "output_type": "stream",
          "text": [
            "AxesSubplot(0.125,0.125;0.62x0.755)\n"
          ],
          "name": "stdout"
        },
        {
          "output_type": "display_data",
          "data": {
            "image/png": "[encoded data removed]",
            "text/plain": [
              "<Figure size 648x432 with 2 Axes>"
            ]
          },
          "metadata": {
            "tags": [],
            "needs_background": "light"
          }
        }
      ]
    },
    {
      "cell_type": "markdown",
      "metadata": {
        "id": "1HSl7ZqBujgR"
      },
      "source": [
        "## **RANDOM FOREST:**"
      ]
    },
    {
      "cell_type": "code",
      "metadata": {
        "id": "_EM21hLrmxRd"
      },
      "source": [
        "from sklearn.ensemble import RandomForestClassifier\n",
        "from sklearn.model_selection import KFold,cross_val_score"
      ],
      "execution_count": 26,
      "outputs": []
    },
    {
      "cell_type": "code",
      "metadata": {
        "id": "HYeVQPj995rl"
      },
      "source": [
        "clf = RandomForestClassifier(verbose=1)"
      ],
      "execution_count": 27,
      "outputs": []
    },
    {
      "cell_type": "code",
      "metadata": {
        "colab": {
          "base_uri": "https://localhost:8080/"
        },
        "id": "6t_CRykFnQ-i",
        "outputId": "16728289-b3f3-4821-87aa-2a32575da488"
      },
      "source": [
        "clf.fit(scaled_X_train,scaled_y_train)"
      ],
      "execution_count": 28,
      "outputs": [
        {
          "output_type": "stream",
          "text": [
            "[Parallel(n_jobs=1)]: Using backend SequentialBackend with 1 concurrent workers.\n",
            "[Parallel(n_jobs=1)]: Done 100 out of 100 | elapsed:    0.9s finished\n"
          ],
          "name": "stderr"
        },
        {
          "output_type": "execute_result",
          "data": {
            "text/plain": [
              "RandomForestClassifier(bootstrap=True, ccp_alpha=0.0, class_weight=None,\n",
              "                       criterion='gini', max_depth=None, max_features='auto',\n",
              "                       max_leaf_nodes=None, max_samples=None,\n",
              "                       min_impurity_decrease=0.0, min_impurity_split=None,\n",
              "                       min_samples_leaf=1, min_samples_split=2,\n",
              "                       min_weight_fraction_leaf=0.0, n_estimators=100,\n",
              "                       n_jobs=None, oob_score=False, random_state=None,\n",
              "                       verbose=1, warm_start=False)"
            ]
          },
          "metadata": {
            "tags": []
          },
          "execution_count": 28
        }
      ]
    },
    {
      "cell_type": "code",
      "metadata": {
        "colab": {
          "base_uri": "https://localhost:8080/"
        },
        "id": "WlXFkLuS_3Sf",
        "outputId": "f5171a6c-fae7-44cb-d8b2-6b95f4baf0f4"
      },
      "source": [
        "y_pred = clf.predict(scaled_X_test)\n",
        "\n",
        "print(\"Accuracy score: \", accuracy_score(y_pred,scaled_y_test))\n",
        "print(\"Classification report: \\n\",classification_report(y_pred,scaled_y_test))"
      ],
      "execution_count": 29,
      "outputs": [
        {
          "output_type": "stream",
          "text": [
            "Accuracy score:  1.0\n",
            "Classification report: \n",
            "               precision    recall  f1-score   support\n",
            "\n",
            "       Apple       1.00      1.00      1.00        27\n",
            "      Banana       1.00      1.00      1.00        21\n",
            "       Mango       1.00      1.00      1.00        16\n",
            "      Orange       1.00      1.00      1.00        19\n",
            "   jackfruit       1.00      1.00      1.00        21\n",
            "\n",
            "    accuracy                           1.00       104\n",
            "   macro avg       1.00      1.00      1.00       104\n",
            "weighted avg       1.00      1.00      1.00       104\n",
            "\n"
          ],
          "name": "stdout"
        },
        {
          "output_type": "stream",
          "text": [
            "[Parallel(n_jobs=1)]: Using backend SequentialBackend with 1 concurrent workers.\n",
            "[Parallel(n_jobs=1)]: Done 100 out of 100 | elapsed:    0.0s finished\n"
          ],
          "name": "stderr"
        }
      ]
    },
    {
      "cell_type": "code",
      "metadata": {
        "colab": {
          "base_uri": "https://localhost:8080/",
          "height": 422
        },
        "id": "njIkg9VDYBnM",
        "outputId": "4b3eff69-397e-462c-e862-4b7a40932df1"
      },
      "source": [
        "cm = pd.DataFrame(confusion_matrix(scaled_y_test,y_pred), columns=[\"Apple\", \"Banana\", \"Mango\", \"Orange\", \"jackfruit\"], index = [\"Apple\", \"Banana\", \"Mango\", \"Orange\", \"jackfruit\"] )\n",
        "cm.index.name = 'Actual'\n",
        "cm.columns.name = 'Predicted'\n",
        "plt.figure(figsize = (9,6))\n",
        "plt.title(\"Confusion matrix\")\n",
        "print(sns.heatmap(cm,annot = True,cmap='Blues'))"
      ],
      "execution_count": 30,
      "outputs": [
        {
          "output_type": "stream",
          "text": [
            "AxesSubplot(0.125,0.125;0.62x0.755)\n"
          ],
          "name": "stdout"
        },
        {
          "output_type": "display_data",
          "data": {
            "image/png": "[encoded data removed]",
            "text/plain": [
              "<Figure size 648x432 with 2 Axes>"
            ]
          },
          "metadata": {
            "tags": [],
            "needs_background": "light"
          }
        }
      ]
    },
    {
      "cell_type": "markdown",
      "metadata": {
        "id": "3u9a279EGd2U"
      },
      "source": [
        "### **Hyper parameter tuning:**"
      ]
    },
    {
      "cell_type": "code",
      "metadata": {
        "id": "wfUkfaKyuWLC"
      },
      "source": [
        "params = {'criterion': ['gini' , 'entropy'],\n",
        "               'n_estimators': range(50,150,10),\n",
        "               'max_depth': range(10,100,1),\n",
        "               'min_samples_leaf': range(1,10,1)}"
      ],
      "execution_count": 31,
      "outputs": []
    },
    {
      "cell_type": "code",
      "metadata": {
        "colab": {
          "base_uri": "https://localhost:8080/"
        },
        "id": "ogYzF-phwBcC",
        "outputId": "0844dfb4-4704-4da5-9aa7-fa67074d8cc3"
      },
      "source": [
        "from sklearn.model_selection import RandomizedSearchCV\n",
        "\n",
        "clf = RandomForestClassifier()\n",
        "model = RandomizedSearchCV(estimator = clf , param_distributions = params, n_jobs=10)\n",
        "model.fit(scaled_X_train, scaled_y_train)"
      ],
      "execution_count": 32,
      "outputs": [
        {
          "output_type": "execute_result",
          "data": {
            "text/plain": [
              "RandomizedSearchCV(cv=None, error_score=nan,\n",
              "                   estimator=RandomForestClassifier(bootstrap=True,\n",
              "                                                    ccp_alpha=0.0,\n",
              "                                                    class_weight=None,\n",
              "                                                    criterion='gini',\n",
              "                                                    max_depth=None,\n",
              "                                                    max_features='auto',\n",
              "                                                    max_leaf_nodes=None,\n",
              "                                                    max_samples=None,\n",
              "                                                    min_impurity_decrease=0.0,\n",
              "                                                    min_impurity_split=None,\n",
              "                                                    min_samples_leaf=1,\n",
              "                                                    min_samples_split=2,\n",
              "                                                    min_weight_fraction_leaf=0.0,\n",
              "                                                    n_estimators=100,\n",
              "                                                    n_jobs=None,\n",
              "                                                    oob_score=False,\n",
              "                                                    random_state=None,\n",
              "                                                    verbose=0,\n",
              "                                                    warm_start=False),\n",
              "                   iid='deprecated', n_iter=10, n_jobs=10,\n",
              "                   param_distributions={'criterion': ['gini', 'entropy'],\n",
              "                                        'max_depth': range(10, 100),\n",
              "                                        'min_samples_leaf': range(1, 10),\n",
              "                                        'n_estimators': range(50, 150, 10)},\n",
              "                   pre_dispatch='2*n_jobs', random_state=None, refit=True,\n",
              "                   return_train_score=False, scoring=None, verbose=0)"
            ]
          },
          "metadata": {
            "tags": []
          },
          "execution_count": 32
        }
      ]
    },
    {
      "cell_type": "code",
      "metadata": {
        "colab": {
          "base_uri": "https://localhost:8080/"
        },
        "id": "CPXrsTIiw3s4",
        "outputId": "b511b087-93d9-447c-9e31-71112db56a2e"
      },
      "source": [
        "model.best_params_"
      ],
      "execution_count": 33,
      "outputs": [
        {
          "output_type": "execute_result",
          "data": {
            "text/plain": [
              "{'criterion': 'gini',\n",
              " 'max_depth': 46,\n",
              " 'min_samples_leaf': 2,\n",
              " 'n_estimators': 80}"
            ]
          },
          "metadata": {
            "tags": []
          },
          "execution_count": 33
        }
      ]
    },
    {
      "cell_type": "code",
      "metadata": {
        "colab": {
          "base_uri": "https://localhost:8080/",
          "height": 319
        },
        "id": "EbN1XpxXxCGV",
        "outputId": "f86f97c0-381c-4271-881f-fc498e58f0cc"
      },
      "source": [
        "y_pred = model.predict(scaled_X_test)\n",
        "\n",
        "print(\"Accuracy score: \", accuracy_score(y_pred,scaled_y_test))\n",
        "r = classification_report(scaled_y_test, y_pred,output_dict=True)\n",
        "df = pd.DataFrame(r).T\n",
        "df"
      ],
      "execution_count": 35,
      "outputs": [
        {
          "output_type": "stream",
          "text": [
            "Accuracy score:  0.9903846153846154\n"
          ],
          "name": "stdout"
        },
        {
          "output_type": "execute_result",
          "data": {
            "text/html": [
              "<div>\n",
              "<style scoped>\n",
              "    .dataframe tbody tr th:only-of-type {\n",
              "        vertical-align: middle;\n",
              "    }\n",
              "\n",
              "    .dataframe tbody tr th {\n",
              "        vertical-align: top;\n",
              "    }\n",
              "\n",
              "    .dataframe thead th {\n",
              "        text-align: right;\n",
              "    }\n",
              "</style>\n",
              "<table border=\"1\" class=\"dataframe\">\n",
              "  <thead>\n",
              "    <tr style=\"text-align: right;\">\n",
              "      <th></th>\n",
              "      <th>precision</th>\n",
              "      <th>recall</th>\n",
              "      <th>f1-score</th>\n",
              "      <th>support</th>\n",
              "    </tr>\n",
              "  </thead>\n",
              "  <tbody>\n",
              "    <tr>\n",
              "      <th>Apple</th>\n",
              "      <td>1.000000</td>\n",
              "      <td>1.000000</td>\n",
              "      <td>1.000000</td>\n",
              "      <td>27.000000</td>\n",
              "    </tr>\n",
              "    <tr>\n",
              "      <th>Banana</th>\n",
              "      <td>0.954545</td>\n",
              "      <td>1.000000</td>\n",
              "      <td>0.976744</td>\n",
              "      <td>21.000000</td>\n",
              "    </tr>\n",
              "    <tr>\n",
              "      <th>Mango</th>\n",
              "      <td>1.000000</td>\n",
              "      <td>1.000000</td>\n",
              "      <td>1.000000</td>\n",
              "      <td>16.000000</td>\n",
              "    </tr>\n",
              "    <tr>\n",
              "      <th>Orange</th>\n",
              "      <td>1.000000</td>\n",
              "      <td>1.000000</td>\n",
              "      <td>1.000000</td>\n",
              "      <td>19.000000</td>\n",
              "    </tr>\n",
              "    <tr>\n",
              "      <th>jackfruit</th>\n",
              "      <td>1.000000</td>\n",
              "      <td>0.952381</td>\n",
              "      <td>0.975610</td>\n",
              "      <td>21.000000</td>\n",
              "    </tr>\n",
              "    <tr>\n",
              "      <th>accuracy</th>\n",
              "      <td>0.990385</td>\n",
              "      <td>0.990385</td>\n",
              "      <td>0.990385</td>\n",
              "      <td>0.990385</td>\n",
              "    </tr>\n",
              "    <tr>\n",
              "      <th>macro avg</th>\n",
              "      <td>0.990909</td>\n",
              "      <td>0.990476</td>\n",
              "      <td>0.990471</td>\n",
              "      <td>104.000000</td>\n",
              "    </tr>\n",
              "    <tr>\n",
              "      <th>weighted avg</th>\n",
              "      <td>0.990822</td>\n",
              "      <td>0.990385</td>\n",
              "      <td>0.990379</td>\n",
              "      <td>104.000000</td>\n",
              "    </tr>\n",
              "  </tbody>\n",
              "</table>\n",
              "</div>"
            ],
            "text/plain": [
              "              precision    recall  f1-score     support\n",
              "Apple          1.000000  1.000000  1.000000   27.000000\n",
              "Banana         0.954545  1.000000  0.976744   21.000000\n",
              "Mango          1.000000  1.000000  1.000000   16.000000\n",
              "Orange         1.000000  1.000000  1.000000   19.000000\n",
              "jackfruit      1.000000  0.952381  0.975610   21.000000\n",
              "accuracy       0.990385  0.990385  0.990385    0.990385\n",
              "macro avg      0.990909  0.990476  0.990471  104.000000\n",
              "weighted avg   0.990822  0.990385  0.990379  104.000000"
            ]
          },
          "metadata": {
            "tags": []
          },
          "execution_count": 35
        }
      ]
    },
    {
      "cell_type": "code",
      "metadata": {
        "id": "wC8d7FdeI-le"
      },
      "source": [
        "acc.append(accuracy_score(y_pred,scaled_y_test))"
      ],
      "execution_count": 36,
      "outputs": []
    },
    {
      "cell_type": "code",
      "metadata": {
        "colab": {
          "base_uri": "https://localhost:8080/",
          "height": 422
        },
        "id": "gzuA0bNPYSBQ",
        "outputId": "7e015c2e-3371-40eb-d88d-66f414079bf6"
      },
      "source": [
        "cm = pd.DataFrame(confusion_matrix(scaled_y_test,y_pred), columns=[\"Apple\", \"Banana\", \"Mango\", \"Orange\", \"jackfruit\"], index = [\"Apple\", \"Banana\", \"Mango\", \"Orange\", \"jackfruit\"] )\n",
        "cm.index.name = 'Actual'\n",
        "cm.columns.name = 'Predicted'\n",
        "plt.figure(figsize = (9,6))\n",
        "plt.title(\"Confusion matrix\")\n",
        "print(sns.heatmap(cm,annot = True,cmap='Blues'))"
      ],
      "execution_count": 37,
      "outputs": [
        {
          "output_type": "stream",
          "text": [
            "AxesSubplot(0.125,0.125;0.62x0.755)\n"
          ],
          "name": "stdout"
        },
        {
          "output_type": "display_data",
          "data": {
            "image/png": "[encoded data removed]",
            "text/plain": [
              "<Figure size 648x432 with 2 Axes>"
            ]
          },
          "metadata": {
            "tags": [],
            "needs_background": "light"
          }
        }
      ]
    },
    {
      "cell_type": "markdown",
      "metadata": {
        "id": "Ms0utSpMGONO"
      },
      "source": [
        "**Cross validation scores:**"
      ]
    },
    {
      "cell_type": "code",
      "metadata": {
        "colab": {
          "base_uri": "https://localhost:8080/"
        },
        "id": "UtIe3acBI_2y",
        "outputId": "efcfbf05-5e0c-40f8-c1a9-b3ab32a3d250"
      },
      "source": [
        "clf = RandomForestClassifier()\n",
        "  \n",
        "scores = cross_val_score(clf,scaled_X,y,cv=10)\n",
        "print(scores) \n",
        "print()\n",
        "print(\"Cross Validation Score= \",sum(scores)/len(scores))"
      ],
      "execution_count": 38,
      "outputs": [
        {
          "output_type": "stream",
          "text": [
            "[1.         0.98076923 0.96153846 1.         1.         1.\n",
            " 0.96153846 1.         1.         1.        ]\n",
            "\n",
            "Cross Validation Score=  0.9903846153846153\n"
          ],
          "name": "stdout"
        }
      ]
    },
    {
      "cell_type": "markdown",
      "metadata": {
        "id": "gnJ2Lo7vcCBS"
      },
      "source": [
        "# **Convolutional neural network**"
      ]
    },
    {
      "cell_type": "code",
      "metadata": {
        "id": "E5mrsbhGT1RU"
      },
      "source": [
        "import tensorflow as tf\n",
        "\n",
        "from tensorflow.keras import layers, models\n",
        "from tensorflow.keras.models import Sequential\n",
        "from tensorflow.keras.layers import Conv2D,MaxPooling2D,Flatten,Dense"
      ],
      "execution_count": 39,
      "outputs": []
    },
    {
      "cell_type": "code",
      "metadata": {
        "id": "6R4ycDXUUEUx"
      },
      "source": [
        "model = Sequential()\n",
        "model.add(Conv2D(16, (3, 3), activation='relu', input_shape=(90, 90, 3)))\n",
        "model.add(MaxPooling2D((2, 2)))\n",
        "model.add(Conv2D(32, (3, 3), activation='relu'))\n",
        "model.add(MaxPooling2D((2, 2)))\n",
        "model.add(Conv2D(64, (3, 3), activation='relu'))\n",
        "model.add(MaxPooling2D((2,2)))\n",
        "model.add(Flatten())\n",
        "model.add(Dense(64,activation ='relu'))\n",
        "model.add(Dense(5,activation='softmax'))\n"
      ],
      "execution_count": 40,
      "outputs": []
    },
    {
      "cell_type": "code",
      "metadata": {
        "id": "-ihPuTbRUPdQ",
        "colab": {
          "base_uri": "https://localhost:8080/"
        },
        "outputId": "f7837d0b-95a3-4885-be6c-9937e74776b7"
      },
      "source": [
        "model.summary()"
      ],
      "execution_count": 41,
      "outputs": [
        {
          "output_type": "stream",
          "text": [
            "Model: \"sequential\"\n",
            "_________________________________________________________________\n",
            "Layer (type)                 Output Shape              Param #   \n",
            "=================================================================\n",
            "conv2d (Conv2D)              (None, 88, 88, 16)        448       \n",
            "_________________________________________________________________\n",
            "max_pooling2d (MaxPooling2D) (None, 44, 44, 16)        0         \n",
            "_________________________________________________________________\n",
            "conv2d_1 (Conv2D)            (None, 42, 42, 32)        4640      \n",
            "_________________________________________________________________\n",
            "max_pooling2d_1 (MaxPooling2 (None, 21, 21, 32)        0         \n",
            "_________________________________________________________________\n",
            "conv2d_2 (Conv2D)            (None, 19, 19, 64)        18496     \n",
            "_________________________________________________________________\n",
            "max_pooling2d_2 (MaxPooling2 (None, 9, 9, 64)          0         \n",
            "_________________________________________________________________\n",
            "flatten (Flatten)            (None, 5184)              0         \n",
            "_________________________________________________________________\n",
            "dense (Dense)                (None, 64)                331840    \n",
            "_________________________________________________________________\n",
            "dense_1 (Dense)              (None, 5)                 325       \n",
            "=================================================================\n",
            "Total params: 355,749\n",
            "Trainable params: 355,749\n",
            "Non-trainable params: 0\n",
            "_________________________________________________________________\n"
          ],
          "name": "stdout"
        }
      ]
    },
    {
      "cell_type": "code",
      "metadata": {
        "id": "M4QQAKl-UUUz"
      },
      "source": [
        "model.compile(optimizer='adam',loss='categorical_crossentropy',metrics=['accuracy'])"
      ],
      "execution_count": 42,
      "outputs": []
    },
    {
      "cell_type": "code",
      "metadata": {
        "id": "XVaNjDvZSbo-"
      },
      "source": [
        "from tensorflow.keras.preprocessing.image import ImageDataGenerator\n",
        "train_gen = ImageDataGenerator(rescale=1./255, validation_split=0.2)"
      ],
      "execution_count": 43,
      "outputs": []
    },
    {
      "cell_type": "code",
      "metadata": {
        "id": "RC52khTiS7KX",
        "colab": {
          "base_uri": "https://localhost:8080/"
        },
        "outputId": "32b143f8-02bd-4b2a-8c31-0c3137b0ab5b"
      },
      "source": [
        "train_data = train_gen.flow_from_directory('/content/drive/My Drive/minidata/',\n",
        "                                           class_mode='categorical',\n",
        "                                           batch_size =8,\n",
        "                                           target_size=(90,90),\n",
        "                                           shuffle=True,\n",
        "                                           subset='training')\n",
        "validation_data = train_gen.flow_from_directory('/content/drive/My Drive/minidata/',\n",
        "                                           class_mode='categorical',\n",
        "                                           batch_size =8,\n",
        "                                           target_size=(90,90),\n",
        "                                           shuffle=True,\n",
        "                                           subset='validation')"
      ],
      "execution_count": 44,
      "outputs": [
        {
          "output_type": "stream",
          "text": [
            "Found 418 images belonging to 5 classes.\n",
            "Found 102 images belonging to 5 classes.\n"
          ],
          "name": "stdout"
        }
      ]
    },
    {
      "cell_type": "code",
      "metadata": {
        "id": "HUvyR-Y6UndA",
        "colab": {
          "base_uri": "https://localhost:8080/"
        },
        "outputId": "c72ec7f6-9148-4d15-89b7-9218250213aa"
      },
      "source": [
        "hist = model.fit(train_data,validation_data=validation_data,epochs=10) "
      ],
      "execution_count": 45,
      "outputs": [
        {
          "output_type": "stream",
          "text": [
            "Epoch 1/10\n",
            "53/53 [==============================] - 1s 19ms/step - loss: 0.8773 - accuracy: 0.6531 - val_loss: 1.1471 - val_accuracy: 0.7157\n",
            "Epoch 2/10\n",
            "53/53 [==============================] - 1s 15ms/step - loss: 0.2029 - accuracy: 0.9330 - val_loss: 0.7806 - val_accuracy: 0.8137\n",
            "Epoch 3/10\n",
            "53/53 [==============================] - 1s 15ms/step - loss: 0.0588 - accuracy: 0.9785 - val_loss: 0.7701 - val_accuracy: 0.7745\n",
            "Epoch 4/10\n",
            "53/53 [==============================] - 1s 15ms/step - loss: 0.0286 - accuracy: 0.9952 - val_loss: 1.5818 - val_accuracy: 0.8333\n",
            "Epoch 5/10\n",
            "53/53 [==============================] - 1s 14ms/step - loss: 0.0232 - accuracy: 0.9952 - val_loss: 1.0061 - val_accuracy: 0.7647\n",
            "Epoch 6/10\n",
            "53/53 [==============================] - 1s 15ms/step - loss: 0.0050 - accuracy: 1.0000 - val_loss: 1.4569 - val_accuracy: 0.8333\n",
            "Epoch 7/10\n",
            "53/53 [==============================] - 1s 15ms/step - loss: 0.0010 - accuracy: 1.0000 - val_loss: 1.8056 - val_accuracy: 0.8333\n",
            "Epoch 8/10\n",
            "53/53 [==============================] - 1s 14ms/step - loss: 7.4540e-04 - accuracy: 1.0000 - val_loss: 1.7681 - val_accuracy: 0.8333\n",
            "Epoch 9/10\n",
            "53/53 [==============================] - 1s 14ms/step - loss: 4.3854e-04 - accuracy: 1.0000 - val_loss: 1.9855 - val_accuracy: 0.8333\n",
            "Epoch 10/10\n",
            "53/53 [==============================] - 1s 16ms/step - loss: 3.8665e-04 - accuracy: 1.0000 - val_loss: 1.9842 - val_accuracy: 0.8333\n"
          ],
          "name": "stdout"
        }
      ]
    },
    {
      "cell_type": "code",
      "metadata": {
        "id": "hqam61u92a73"
      },
      "source": [
        "model.save('/content/drive/MyDrive/minimodel.h5')"
      ],
      "execution_count": 46,
      "outputs": []
    },
    {
      "cell_type": "code",
      "metadata": {
        "id": "Oi0zsBgNXIag",
        "colab": {
          "base_uri": "https://localhost:8080/"
        },
        "outputId": "1c83ac6d-f875-441e-ac27-edf300137688"
      },
      "source": [
        "model.evaluate(validation_data)"
      ],
      "execution_count": 47,
      "outputs": [
        {
          "output_type": "stream",
          "text": [
            "13/13 [==============================] - 0s 11ms/step - loss: 1.9842 - accuracy: 0.8333\n"
          ],
          "name": "stdout"
        },
        {
          "output_type": "execute_result",
          "data": {
            "text/plain": [
              "[1.984218716621399, 0.8333333134651184]"
            ]
          },
          "metadata": {
            "tags": []
          },
          "execution_count": 47
        }
      ]
    },
    {
      "cell_type": "code",
      "metadata": {
        "id": "_rfldHd2JlDH"
      },
      "source": [
        "acc.append(0.8333)"
      ],
      "execution_count": 48,
      "outputs": []
    },
    {
      "cell_type": "code",
      "metadata": {
        "colab": {
          "base_uri": "https://localhost:8080/"
        },
        "id": "pPf2Wu2_Jp7K",
        "outputId": "85be190d-46b9-4a51-b1c9-0beab9a19296"
      },
      "source": [
        "acc"
      ],
      "execution_count": 49,
      "outputs": [
        {
          "output_type": "execute_result",
          "data": {
            "text/plain": [
              "[0.9038461538461539, 0.9903846153846154, 0.8333]"
            ]
          },
          "metadata": {
            "tags": []
          },
          "execution_count": 49
        }
      ]
    },
    {
      "cell_type": "code",
      "metadata": {
        "colab": {
          "base_uri": "https://localhost:8080/",
          "height": 348
        },
        "id": "aEmowPE6J2aL",
        "outputId": "d901cc39-daa2-4b4a-f599-f5e89874b862"
      },
      "source": [
        "lst =[]\r\n",
        "algo = [\"KNN\", \"Random Forest\", \"CNN\"]\r\n",
        "for i in acc:\r\n",
        "  x = i*100\r\n",
        "  lst.append(x)\r\n",
        "fig = plt.figure(figsize=(4,3.5))\r\n",
        "ax = fig.add_axes([0,0,1,1])\r\n",
        "plt.axis([-1,3,0,110])\r\n",
        "plt.xlabel('Algorithms')\r\n",
        "plt.ylabel('Accuracy scores')\r\n",
        "plt.title('Algorithm vs performance')\r\n",
        "ax.bar(algo,lst)"
      ],
      "execution_count": 50,
      "outputs": [
        {
          "output_type": "execute_result",
          "data": {
            "text/plain": [
              "<BarContainer object of 3 artists>"
            ]
          },
          "metadata": {
            "tags": []
          },
          "execution_count": 50
        },
        {
          "output_type": "display_data",
          "data": {
            "image/png": "[encoded data removed]",
            "text/plain": [
              "<Figure size 288x252 with 1 Axes>"
            ]
          },
          "metadata": {
            "tags": [],
            "needs_background": "light"
          }
        }
      ]
    },
    {
      "cell_type": "code",
      "metadata": {
        "id": "ETk3aMwjJfx5"
      },
      "source": [
        "# #!/usr/bin/python\n",
        "# from PIL import Image\n",
        "# import os, sys\n",
        "\n",
        "# path = \"dataset/training/Orange/\"\n",
        "# dirs = os.listdir( path )\n",
        "\n",
        "# def resize():\n",
        "#     for item in dirs: \n",
        "#         if os.path.isfile(path+item): \n",
        "#             im = Image.open(path+item)\n",
        "#             f, e = os.path.splitext(path+item)\n",
        "#             imResize = im.resize((90,90), Image.ANTIALIAS)\n",
        "#             imResize.save(f + ' resized.jpg', 'JPEG')\n",
        "\n",
        "# resize()"
      ],
      "execution_count": 51,
      "outputs": []
    },
    {
      "cell_type": "code",
      "metadata": {
        "id": "pW7rWK7ZTmDd"
      },
      "source": [
        "# print(X_train.shape)\n",
        "# print(X_test.shape)\n",
        "# print(y_train.shape)\n",
        "# print(y_test.shape)"
      ],
      "execution_count": 52,
      "outputs": []
    }
  ]
}